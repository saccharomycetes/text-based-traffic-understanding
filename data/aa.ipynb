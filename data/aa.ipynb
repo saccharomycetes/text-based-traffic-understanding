{
 "cells": [
  {
   "cell_type": "code",
   "execution_count": 15,
   "metadata": {},
   "outputs": [],
   "source": [
    "import json\n",
    "with open('paras.json')as f:\n",
    "    datas = json.load(f)\n",
    "new_datas = []\n",
    "for state, value in datas.items():\n",
    "    for domain, texts in value.items():\n",
    "        for text in texts:\n",
    "            new_datas.append({'text': text, 'state': state, 'domain': domain})"
   ]
  },
  {
   "cell_type": "code",
   "execution_count": 17,
   "metadata": {},
   "outputs": [],
   "source": [
    "with open('new_paras.jsonl', 'w')as f:\n",
    "    for new_data in new_datas:\n",
    "        f.write(json.dumps(new_data) + '\\n')"
   ]
  }
 ],
 "metadata": {
  "kernelspec": {
   "display_name": "Python 3 (ipykernel)",
   "language": "python",
   "name": "python3"
  },
  "language_info": {
   "codemirror_mode": {
    "name": "ipython",
    "version": 3
   },
   "file_extension": ".py",
   "mimetype": "text/x-python",
   "name": "python",
   "nbconvert_exporter": "python",
   "pygments_lexer": "ipython3",
   "version": "3.8.17"
  }
 },
 "nbformat": 4,
 "nbformat_minor": 2
}
